{
 "cells": [
  {
   "cell_type": "markdown",
   "metadata": {},
   "source": [
    "# Soccer Shooting Signatures"
   ]
  },
  {
   "cell_type": "markdown",
   "metadata": {},
   "source": [
    "### Instructions\n",
    "\n",
    "  \n",
    "* Run the cell below and enter a player's *full name* to render his shooting signature (i.e. 'Lionel Messi', 'Cristiano Ronaldo', 'Antoine Griezmann').\n",
    "\n",
    "\n",
    "* Some *sign function* arguments you may want to tweak:\n",
    "\n",
    " * **volume=\"absolute\"**. Change to \"relative\" for relative volume (percentage of shots) instead of absolute (number of shots). Useful for players with low shooting volume like defenders, midfielders.\n",
    "    \n",
    " * **lines=\"true\"**. Change to \"false\" to delete the signature's auxiliar lines (yardage and shooting percentages).\n",
    " * **season_first=2014**. Change to (year with format YYYY) for including only data from the season year/year+1 forward (data available since 2014/15).\n",
    " * **season_last=2017**. Change to (year with format YYYY) for including only data until the season year/year+1 (data available until 2017/18)."
   ]
  },
  {
   "cell_type": "code",
   "execution_count": null,
   "metadata": {},
   "outputs": [],
   "source": [
    "from signature_soccer import sign\n",
    "from IPython.core.display import display, HTML\n",
    "\n",
    "width = 1000\n",
    "\n",
    "player = input()\n",
    "                        \n",
    "display(HTML(sign(player, width=width, height=int(width/3), label=\"true\", volume=\"absolute\",\n",
    "                  lines=\"true\", season_first=2014, season_last=2017)))"
   ]
  }
 ],
 "metadata": {
  "kernelspec": {
   "display_name": "Python 3",
   "language": "python",
   "name": "python3"
  },
  "language_info": {
   "codemirror_mode": {
    "name": "ipython",
    "version": 3
   },
   "file_extension": ".py",
   "mimetype": "text/x-python",
   "name": "python",
   "nbconvert_exporter": "python",
   "pygments_lexer": "ipython3",
   "version": "3.7.1"
  }
 },
 "nbformat": 4,
 "nbformat_minor": 2
}
