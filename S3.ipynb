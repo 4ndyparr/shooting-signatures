{
 "cells": [
  {
   "cell_type": "markdown",
   "metadata": {},
   "source": [
    "# Soccer Shooting Signatures"
   ]
  },
  {
   "cell_type": "code",
   "execution_count": 1,
   "metadata": {},
   "outputs": [],
   "source": [
    "from signature_soccer import sign\n",
    "from IPython.core.display import display, HTML"
   ]
  },
  {
   "cell_type": "code",
   "execution_count": 2,
   "metadata": {},
   "outputs": [
    {
     "data": {
      "text/html": [
       "<script>\n",
       "code_show=true; \n",
       "function code_toggle() {\n",
       " if (code_show){\n",
       " $('div.input').hide();\n",
       " } else {\n",
       " $('div.input').show();\n",
       " }\n",
       " code_show = !code_show\n",
       "} \n",
       "$( document ).ready(code_toggle);\n",
       "</script>\n",
       "<div style=\"text-align:right\">\n",
       "    <a href=\"javascript:code_toggle()\">show/hide</a> raw code\n",
       "</div> \n"
      ],
      "text/plain": [
       "<IPython.core.display.HTML object>"
      ]
     },
     "execution_count": 2,
     "metadata": {},
     "output_type": "execute_result"
    }
   ],
   "source": [
    "HTML('''<script>\n",
    "code_show=true; \n",
    "function code_toggle() {\n",
    " if (code_show){\n",
    " $('div.input').hide();\n",
    " } else {\n",
    " $('div.input').show();\n",
    " }\n",
    " code_show = !code_show\n",
    "} \n",
    "$( document ).ready(code_toggle);\n",
    "</script>\n",
    "<div style=\"text-align:right\">\n",
    "    <a href=\"javascript:code_toggle()\">show/hide</a> raw code\n",
    "</div> \n",
    "''')"
   ]
  },
  {
   "cell_type": "code",
   "execution_count": null,
   "metadata": {},
   "outputs": [],
   "source": [
    "width = 750 #1000\n",
    "\n",
    "\"\"\"\n",
    "## some sign function arguments you may want to tweak\n",
    "\n",
    "# volume=\"absolute\"\n",
    "  Change to \"relative\" for relative volume (percentage of shots) instead of absolute (number of shots)\n",
    "  (useful for players with low shooting volume like defenders, midfielders)\n",
    "# lines=\"true\"\n",
    "  Change to \"false\" to delete auxiliar lines (yardage and shooting percentages)\n",
    "# season_first=2014\n",
    "  Change to (year in the form YYYY) for including only data from the season year/year+1 forward (data available since 2014/15)\n",
    "# season_last=2017\n",
    "  Change to (year in the form YYYY) for including only data until the season year/year+1 (data available until 2017/18)\n",
    "\"\"\"\n",
    "\n",
    "\n",
    "player = input(\"Press Ctrl+Enter and write a player's full name to render his shooting signature:\\\n",
    "               \\n(i.e. 'Lionel Messi', 'Cristiano Ronaldo', 'Antoine Griezmann')\\n\\n\")\n",
    "                        \n",
    "display(HTML(sign(player, width=width, height=int(width/3), label=\"true\", sector=\"wedge\", volume=\"absolute\",\n",
    "                  lines=\"true\", season_first=2014, season_last=2017)))"
   ]
  }
 ],
 "metadata": {
  "kernelspec": {
   "display_name": "Python 3",
   "language": "python",
   "name": "python3"
  },
  "language_info": {
   "codemirror_mode": {
    "name": "ipython",
    "version": 3
   },
   "file_extension": ".py",
   "mimetype": "text/x-python",
   "name": "python",
   "nbconvert_exporter": "python",
   "pygments_lexer": "ipython3",
   "version": "3.7.1"
  }
 },
 "nbformat": 4,
 "nbformat_minor": 2
}
